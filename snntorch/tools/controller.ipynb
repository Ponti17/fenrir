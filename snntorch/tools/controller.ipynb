{
 "cells": [
  {
   "cell_type": "markdown",
   "metadata": {},
   "source": [
    "# Controller Simulation"
   ]
  },
  {
   "cell_type": "code",
   "execution_count": null,
   "metadata": {},
   "outputs": [],
   "source": [
    "# SNN\n",
    "import tonic\n",
    "import torch\n",
    "import torch.nn as nn\n",
    "import snntorch as snn\n",
    "from snntorch import surrogate\n",
    "from snntorch import functional as SF\n",
    "from snntorch import utils\n",
    "import snntorch.spikeplot as splt\n",
    "\n",
    "# Visualization\n",
    "import matplotlib.pyplot as plt\n",
    "import matplotlib.animation as animation\n",
    "from IPython.display import HTML\n",
    "\n",
    "# Misc\n",
    "import numpy as np\n",
    "import numpy.lib.recfunctions as rf\n",
    "\n",
    "# Core\n",
    "import os"
   ]
  },
  {
   "cell_type": "code",
   "execution_count": null,
   "metadata": {},
   "outputs": [],
   "source": [
    "# Parameters\n",
    "num_neurons = 8*6\n",
    "beta        = 0.5\n",
    "\n",
    "# Initialize layers\n",
    "fc1  = nn.Linear(num_neurons, num_neurons)\n",
    "lif1 = snn.Leaky(beta=beta, threshold=50, reset_mechanism='zero')\n",
    "\n",
    "# Initialize FC\n",
    "torch.nn.init.zeros_(fc1.bias)  # Initialize bias to zero\n",
    "torch.nn.init.ones_(fc1.weight) # Initialize weights to one\n",
    "\n",
    "# Initialize hidden states\n",
    "mem1 = lif1.init_leaky()\n",
    "\n",
    "# Outputs\n",
    "mem1_rec = []\n",
    "spk1_rec = []\n",
    "\n",
    "num_steps = 100\n",
    "spk_in = torch.ones((num_steps, num_neurons))\n",
    "for step in range(num_steps):\n",
    "    cur1 = fc1(spk_in[step])\n",
    "    spk1, mem1 = lif1(cur1, mem1)\n",
    "    mem1_rec.append(mem1)\n",
    "    spk1_rec.append(spk1)\n",
    "\n",
    "mem1_rec = torch.stack(mem1_rec)\n",
    "spk1_rec = torch.stack(spk1_rec)"
   ]
  },
  {
   "cell_type": "code",
   "execution_count": null,
   "metadata": {},
   "outputs": [],
   "source": [
    "spk_in_plot = spk_in.reshape((num_steps, -1))\n",
    "spk1_rec_plot = spk1_rec.reshape((num_steps, -1))\n",
    "\n",
    "fig, axs = plt.subplots(2, 1, figsize=(10, 6), facecolor='w', sharex=True)\n",
    "splt.raster(spk_in_plot, axs[0], s=1.5, c=\"black\")\n",
    "splt.raster(spk1_rec_plot, axs[1], s=1.5, c=\"black\")\n",
    "\n",
    "axs[0].set_title(\"Input Layer\")\n",
    "axs[0].set_ylabel(\"Input Spikes\")\n",
    "axs[1].set_xlabel(\"Time step\")\n",
    "axs[1].set_ylabel(\"Output Spikes\")\n",
    "plt.show()"
   ]
  },
  {
   "cell_type": "code",
   "execution_count": null,
   "metadata": {},
   "outputs": [],
   "source": [
    "print(fc1.weight)"
   ]
  },
  {
   "cell_type": "code",
   "execution_count": null,
   "metadata": {},
   "outputs": [],
   "source": [
    "print(fc1.bias)"
   ]
  },
  {
   "cell_type": "code",
   "execution_count": null,
   "metadata": {},
   "outputs": [],
   "source": []
  }
 ],
 "metadata": {
  "kernelspec": {
   "display_name": ".venv",
   "language": "python",
   "name": "python3"
  },
  "language_info": {
   "codemirror_mode": {
    "name": "ipython",
    "version": 3
   },
   "file_extension": ".py",
   "mimetype": "text/x-python",
   "name": "python",
   "nbconvert_exporter": "python",
   "pygments_lexer": "ipython3",
   "version": "3.12.5"
  }
 },
 "nbformat": 4,
 "nbformat_minor": 2
}
