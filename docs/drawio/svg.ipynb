{
 "cells": [
  {
   "cell_type": "code",
   "execution_count": null,
   "metadata": {},
   "outputs": [],
   "source": [
    "import os\n",
    "import sys\n",
    "import xml.etree.ElementTree as ET\n",
    "\n",
    "from cairosvg import svg2png\n",
    "from PIL import Image"
   ]
  },
  {
   "cell_type": "code",
   "execution_count": null,
   "metadata": {},
   "outputs": [],
   "source": [
    "def modify_svg_opacity(svg_path, output_path, chosen_index):\n",
    "    tree = ET.parse(svg_path)\n",
    "    root = tree.getroot()\n",
    "    \n",
    "    # Collect elements, assuming each arrow consists of two elements (line + head)\n",
    "    arrow_elements = []  # This will store tuples of (line, head)\n",
    "    temp_pair = []\n",
    "    \n",
    "    for elem in root.iter():\n",
    "        if 'fill-opacity' in elem.attrib or 'stroke-opacity' in elem.attrib or 'style' in elem.attrib:\n",
    "            temp_pair.append(elem)\n",
    "            if len(temp_pair) == 2:  # Every two elements form a pair\n",
    "                arrow_elements.append(tuple(temp_pair))\n",
    "                temp_pair = []\n",
    "    \n",
    "    # Ensure we have 9 pairs (18 elements total)\n",
    "    if len(arrow_elements) < 9:\n",
    "        print(f\"Error: Found only {len(arrow_elements)} arrow pairs instead of 9!\")\n",
    "        return\n",
    "    \n",
    "    # Modify opacity for both line and head together\n",
    "    for i, (line, head) in enumerate(arrow_elements[:]):  # Only modify the first 9 pairs\n",
    "        if i == chosen_index:\n",
    "            opacity_value = '1.0'\n",
    "        else:\n",
    "            opacity_value = '0.1'\n",
    "        \n",
    "        # Apply opacity changes to line\n",
    "        line.set('stroke-opacity', opacity_value)\n",
    "        if 'fill-opacity' in line.attrib:\n",
    "            line.set('fill-opacity', opacity_value)\n",
    "\n",
    "        # Apply opacity changes to head\n",
    "        head.set('stroke-opacity', opacity_value)\n",
    "        if 'fill-opacity' in head.attrib:\n",
    "            head.set('fill-opacity', opacity_value)\n",
    "\n",
    "        # Handle inline styles (SVGs with CSS-like attributes)\n",
    "        for elem in [line, head]:\n",
    "            if 'style' in elem.attrib:\n",
    "                styles = elem.attrib['style'].split(';')\n",
    "                new_styles = []\n",
    "                for style in styles:\n",
    "                    if 'fill-opacity' in style:\n",
    "                        new_styles.append(f'fill-opacity:{opacity_value}')\n",
    "                    elif 'stroke-opacity' in style:\n",
    "                        new_styles.append(f'stroke-opacity:{opacity_value}')\n",
    "                    else:\n",
    "                        new_styles.append(style)\n",
    "                elem.attrib['style'] = ';'.join(new_styles)\n",
    "    \n",
    "    # Save the modified SVG\n",
    "    tree.write(output_path)\n",
    "    print(f\"Modified SVG saved as {output_path}\")\n",
    "\n",
    "def convert_svg_to_png(svg_path, png_path, dpi):\n",
    "    svg2png(url=svg_path, write_to=png_path, dpi=dpi, output_width=dpi*4, output_height=dpi*2)\n",
    "    print(f\"Converted {svg_path} to {png_path}\")\n",
    "\n",
    "def create_gif(png_files, gif_path, duration=500):\n",
    "    images = [Image.open(png) for png in png_files]\n",
    "    images[0].save(gif_path, save_all=True, append_images=images[1:], duration=duration, loop=0)\n",
    "    print(f\"GIF saved as {gif_path}\")"
   ]
  },
  {
   "cell_type": "code",
   "execution_count": null,
   "metadata": {},
   "outputs": [],
   "source": [
    "i = 0\n",
    "fix = 0\n",
    "for j in range(0, 3):\n",
    "    for k in range(0, 9):\n",
    "        fix = 4\n",
    "        modify_svg_opacity(f\"inference_{j}.drawio.svg\", f\"output/output_{i}.svg\", chosen_index=k+fix)\n",
    "        i += 1"
   ]
  },
  {
   "cell_type": "code",
   "execution_count": null,
   "metadata": {},
   "outputs": [],
   "source": [
    "for i in range(0, 27):\n",
    "    convert_svg_to_png(f\"output/output_{i}.svg\", f\"output/output_{i}.png\", 300)"
   ]
  },
  {
   "cell_type": "code",
   "execution_count": null,
   "metadata": {},
   "outputs": [],
   "source": [
    "gif_frames = [f\"output/output_{i}.png\" for i in range(27)]  # Assuming PNG files are named frame_0.png to frame_8.png\n",
    "create_gif(gif_frames, \"output.gif\", duration=500)"
   ]
  }
 ],
 "metadata": {
  "kernelspec": {
   "display_name": ".venv",
   "language": "python",
   "name": "python3"
  },
  "language_info": {
   "codemirror_mode": {
    "name": "ipython",
    "version": 3
   },
   "file_extension": ".py",
   "mimetype": "text/x-python",
   "name": "python",
   "nbconvert_exporter": "python",
   "pygments_lexer": "ipython3",
   "version": "3.12.5"
  }
 },
 "nbformat": 4,
 "nbformat_minor": 2
}
